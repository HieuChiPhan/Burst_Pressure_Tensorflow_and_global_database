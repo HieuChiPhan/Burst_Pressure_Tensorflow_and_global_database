{
 "cells": [
  {
   "cell_type": "markdown",
   "metadata": {},
   "source": [
    "## Predicting Burst Pressure with Tensorflow and Global Data"
   ]
  },
  {
   "cell_type": "markdown",
   "metadata": {},
   "source": [
    "Developing  model for Burst pressure by optimizing parameter in the Origional Model of Netto et al. (2005). The model to develop has the form of:"
   ]
  },
  {
   "cell_type": "markdown",
   "metadata": {},
   "source": [
    "\\begin{align}\n",
    "\\mathbf{P} = {f_{red}}{P_{intact}}= (1-k_1\\frac{d}{t}^{k_2}\\frac{l}{D}^{k_3})\\frac{2tUTS}{D} \n",
    "\\end{align}"
   ]
  },
  {
   "cell_type": "markdown",
   "metadata": {},
   "source": [
    "Where:<br>\n",
    "$f_{red}$: Reduction factor;<br>\n",
    "$P_{intact}$: Burst pressure of the intact pipe (MPa);<br>\n",
    "t: wall thickness (mm);<br>\n",
    "D: Diameter (mm);<br>\n",
    "UTS (or xicma u): Ultimate tensile strength (mm) ;<br>\n",
    "d: defect depth (mm);<br>\n",
    "k1, k2, k3: Need-to-optimize parameters. \n"
   ]
  },
  {
   "cell_type": "markdown",
   "metadata": {},
   "source": [
    "Author (Phan et al., 2017) has developed burst pressure model from format of Netto et al. (2005) and Differential Evolution optimization algorithm with the following results:"
   ]
  },
  {
   "cell_type": "markdown",
   "metadata": {},
   "source": [
    "\\begin{align}\n",
    "\\mathbf{P} = (1-0.88555\\frac{d}{t}^{0.98077}\\frac{l}{D}^{0.31053})\\frac{2tUTS}{D} \n",
    "\\end{align}"
   ]
  },
  {
   "cell_type": "markdown",
   "metadata": {},
   "source": [
    "In this notebook, author develops the burst pressure model based on a global database and the Gradient Descent Optimization algorithm. Databased used to develop models for high strength steel, collected from Ma et al. (2013) (79 samples), Shuai et al. (2017) (53 samples), Phan et al. (2017) (28 samples), Freire et al. (2006) (17 samples), Cronin (2000) (40 samples) with total of 217 samples. Tensorflow framework is used with various libraries listed in the folowing codes."
   ]
  },
  {
   "cell_type": "markdown",
   "metadata": {},
   "source": [
    "References:<br>\n",
    "- Cronin, D.S., 2000. Assessment of corrosion defects in pipelines. Doctor of philosophy dissertation, University of Waterloo.\n",
    "- Freire, J.L.F., Vieira, R.D., Castro, J.T.P. and Benjamin, A.C., 2006. Part 3: Burst tests of pipeline with extensive longitudinal metal loss. Experimental Techniques, 30(6), pp.60-65.\n",
    "- Ma, B., Shuai, J., Liu, D. and Xu, K., 2013. Assessment on failure pressure of high strength pipeline with corrosion defects. Engineering Failure Analysis, 32, pp.209-219.\n",
    "- Netto, T.A., Ferraz, U.S., and Estefen, S.F. 2005. The effect of corrosion defects on the burst pressure of pipelines. Journal of Constructional Steel Research, 61(8): 1185–1204. doi:10.1016/j.jcsr.2005.02.010.\n",
    "- Phan, H.C., Dhar, A.S. and Mondal, B.C., 2017. Revisiting burst pressure models for corroded pipelines. Canadian Journal of Civil Engineering, 44(7), pp.485-494.\n",
    "- Shuai, Y., Shuai, J. and Xu, K., 2017. Probabilistic analysis of corroded pipelines based on a new failure pressure model. Engineering failure analysis, 81, pp.216-233."
   ]
  },
  {
   "cell_type": "code",
   "execution_count": 1,
   "metadata": {},
   "outputs": [
    {
     "name": "stderr",
     "output_type": "stream",
     "text": [
      "C:\\Users\\phanc\\Anaconda3\\lib\\site-packages\\h5py\\__init__.py:36: FutureWarning: Conversion of the second argument of issubdtype from `float` to `np.floating` is deprecated. In future, it will be treated as `np.float64 == np.dtype(float).type`.\n",
      "  from ._conv import register_converters as _register_converters\n"
     ]
    }
   ],
   "source": [
    "# Importing the libraries\n",
    "import numpy as np\n",
    "import matplotlib.pyplot as plt\n",
    "import pandas as pd\n",
    "import os\n",
    "import tensorflow as tf"
   ]
  },
  {
   "cell_type": "code",
   "execution_count": 2,
   "metadata": {},
   "outputs": [
    {
     "name": "stdout",
     "output_type": "stream",
     "text": [
      "current directory is : C:\\Hieu 2019\\After grad\\the 7th paper\n"
     ]
    }
   ],
   "source": [
    "# Set up working directory\n",
    "os.chdir(r'C:\\Hieu 2019\\After grad\\the 7th paper')\n",
    "dirpath = os.getcwd()\n",
    "print(\"current directory is : \" + dirpath)"
   ]
  },
  {
   "cell_type": "code",
   "execution_count": 3,
   "metadata": {
    "scrolled": false
   },
   "outputs": [
    {
     "data": {
      "text/html": [
       "<div>\n",
       "<style scoped>\n",
       "    .dataframe tbody tr th:only-of-type {\n",
       "        vertical-align: middle;\n",
       "    }\n",
       "\n",
       "    .dataframe tbody tr th {\n",
       "        vertical-align: top;\n",
       "    }\n",
       "\n",
       "    .dataframe thead th {\n",
       "        text-align: right;\n",
       "    }\n",
       "</style>\n",
       "<table border=\"1\" class=\"dataframe\">\n",
       "  <thead>\n",
       "    <tr style=\"text-align: right;\">\n",
       "      <th></th>\n",
       "      <th>Unnamed: 0</th>\n",
       "      <th>Grade</th>\n",
       "      <th>D</th>\n",
       "      <th>t</th>\n",
       "      <th>d</th>\n",
       "      <th>L</th>\n",
       "      <th>xicma u</th>\n",
       "      <th>P test</th>\n",
       "      <th>Po</th>\n",
       "      <th>Ratio</th>\n",
       "      <th>file</th>\n",
       "      <th>Cummulative</th>\n",
       "    </tr>\n",
       "  </thead>\n",
       "  <tbody>\n",
       "    <tr>\n",
       "      <th>0</th>\n",
       "      <td>1</td>\n",
       "      <td>X42</td>\n",
       "      <td>273.30</td>\n",
       "      <td>4.95</td>\n",
       "      <td>3.30</td>\n",
       "      <td>182.88</td>\n",
       "      <td>453.86</td>\n",
       "      <td>7.20</td>\n",
       "      <td>16.440593</td>\n",
       "      <td>0.437940</td>\n",
       "      <td>2</td>\n",
       "      <td>1</td>\n",
       "    </tr>\n",
       "    <tr>\n",
       "      <th>1</th>\n",
       "      <td>2</td>\n",
       "      <td>X42</td>\n",
       "      <td>272.97</td>\n",
       "      <td>4.67</td>\n",
       "      <td>2.62</td>\n",
       "      <td>48.26</td>\n",
       "      <td>453.86</td>\n",
       "      <td>11.80</td>\n",
       "      <td>15.529371</td>\n",
       "      <td>0.759850</td>\n",
       "      <td>2</td>\n",
       "      <td>2</td>\n",
       "    </tr>\n",
       "    <tr>\n",
       "      <th>2</th>\n",
       "      <td>3</td>\n",
       "      <td>X42</td>\n",
       "      <td>273.53</td>\n",
       "      <td>4.78</td>\n",
       "      <td>1.63</td>\n",
       "      <td>30.48</td>\n",
       "      <td>453.86</td>\n",
       "      <td>14.56</td>\n",
       "      <td>15.862617</td>\n",
       "      <td>0.917881</td>\n",
       "      <td>2</td>\n",
       "      <td>3</td>\n",
       "    </tr>\n",
       "    <tr>\n",
       "      <th>3</th>\n",
       "      <td>4</td>\n",
       "      <td>X42</td>\n",
       "      <td>273.10</td>\n",
       "      <td>4.88</td>\n",
       "      <td>2.18</td>\n",
       "      <td>101.60</td>\n",
       "      <td>453.86</td>\n",
       "      <td>11.69</td>\n",
       "      <td>16.219969</td>\n",
       "      <td>0.720717</td>\n",
       "      <td>2</td>\n",
       "      <td>4</td>\n",
       "    </tr>\n",
       "    <tr>\n",
       "      <th>4</th>\n",
       "      <td>5</td>\n",
       "      <td>X42</td>\n",
       "      <td>273.89</td>\n",
       "      <td>4.93</td>\n",
       "      <td>1.60</td>\n",
       "      <td>45.72</td>\n",
       "      <td>453.86</td>\n",
       "      <td>14.63</td>\n",
       "      <td>16.338894</td>\n",
       "      <td>0.895409</td>\n",
       "      <td>2</td>\n",
       "      <td>5</td>\n",
       "    </tr>\n",
       "  </tbody>\n",
       "</table>\n",
       "</div>"
      ],
      "text/plain": [
       "   Unnamed: 0 Grade       D     t     d       L  xicma u  P test         Po  \\\n",
       "0           1   X42  273.30  4.95  3.30  182.88   453.86    7.20  16.440593   \n",
       "1           2   X42  272.97  4.67  2.62   48.26   453.86   11.80  15.529371   \n",
       "2           3   X42  273.53  4.78  1.63   30.48   453.86   14.56  15.862617   \n",
       "3           4   X42  273.10  4.88  2.18  101.60   453.86   11.69  16.219969   \n",
       "4           5   X42  273.89  4.93  1.60   45.72   453.86   14.63  16.338894   \n",
       "\n",
       "      Ratio  file  Cummulative  \n",
       "0  0.437940     2            1  \n",
       "1  0.759850     2            2  \n",
       "2  0.917881     2            3  \n",
       "3  0.720717     2            4  \n",
       "4  0.895409     2            5  "
      ]
     },
     "execution_count": 3,
     "metadata": {},
     "output_type": "execute_result"
    }
   ],
   "source": [
    "# Importing the dataset\n",
    "file_name='data1.csv'\n",
    "dataset = pd.read_csv(file_name)\n",
    "dataset.head()"
   ]
  },
  {
   "cell_type": "code",
   "execution_count": 4,
   "metadata": {},
   "outputs": [],
   "source": [
    "# Setup input variable and dependance variable\n",
    "X = dataset.iloc[:, 2:7].values\n",
    "y = dataset.iloc[:,7].values"
   ]
  },
  {
   "cell_type": "code",
   "execution_count": 5,
   "metadata": {},
   "outputs": [],
   "source": [
    "# # Feature Scaling\n",
    "# from sklearn.preprocessing import StandardScaler\n",
    "# sc_X = StandardScaler()\n",
    "# # sc_y = StandardScaler()\n",
    "# X = sc_X.fit_transform(X)\n",
    "# # y = sc_y.fit_transform(y.reshape(-1, 1))\n",
    "\n",
    "# Splitting the dataset into the Training set and Test set\n",
    "from sklearn.model_selection import train_test_split\n",
    "X_train, X_test, y_train, y_test = train_test_split(X, y, test_size = 0.2, random_state = 0)"
   ]
  },
  {
   "cell_type": "code",
   "execution_count": 6,
   "metadata": {},
   "outputs": [],
   "source": [
    "class netto_et_al(object):\n",
    "    \n",
    "    def __init__(self, x_dim, learning_rate=0.01, random_seed=None):\n",
    "        self.x_dim = x_dim\n",
    "        self.learning_rate = learning_rate\n",
    "        self.g = tf.Graph()\n",
    "        ## build the model\n",
    "        with self.g.as_default():\n",
    "            ## set graph-level random-seed\n",
    "            tf.set_random_seed(random_seed)\n",
    "            \n",
    "            self.build()\n",
    "            ## create initializer\n",
    "            self.init_op = tf.global_variables_initializer()\n",
    "        \n",
    "    def build(self):\n",
    "        ## define placeholders for inputs\n",
    "        self.X = tf.placeholder(dtype=tf.float32, shape=(None, None), name='x_input')\n",
    "        self.y = tf.placeholder(dtype=tf.float32, shape=(None,), name='y_input')\n",
    "        print(self.X)\n",
    "        print(self.y)\n",
    "        ## define weight matrix and bias vector\n",
    "        self.k1 = tf.Variable(tf.ones(shape=(1)), name='weight')\n",
    "        self.k2 = tf.Variable(tf.ones(shape=(1)), name='weight')\n",
    "        self.k3 = tf.Variable(tf.ones(shape=(1)), name='weight')\n",
    "        print(self.k1,self.k2,self.k3)\n",
    "\n",
    "        self.y_pred = tf.squeeze(2*self.X[:,1]*self.X[:,4]/self.X[:,0]*(1-self.k1*(self.X[:,2]/self.X[:,1])**self.k2*(self.X[:,3]/self.X[:,0])**self.k3), name='y_pred')\n",
    "        print(self.y_pred)\n",
    "        \n",
    "        sqr_errors = tf.square(self.y - self.y_pred, name='sqr_errors')\n",
    "        print(sqr_errors)\n",
    "        self.mean_cost = tf.reduce_mean(sqr_errors, name='mean_cost')\n",
    "#         self.sum_cost = tf.reduce_sum(sqr_errors, name='mean_cost')\n",
    "#         tf.reduce_sum(x, 1)\n",
    "        optimizer = tf.train.GradientDescentOptimizer(learning_rate=self.learning_rate, name='GradientDescent')\n",
    "        self.optimizer = optimizer.minimize(self.mean_cost)"
   ]
  },
  {
   "cell_type": "code",
   "execution_count": 7,
   "metadata": {},
   "outputs": [
    {
     "name": "stdout",
     "output_type": "stream",
     "text": [
      "Tensor(\"x_input:0\", shape=(?, ?), dtype=float32)\n",
      "Tensor(\"y_input:0\", shape=(?,), dtype=float32)\n",
      "<tf.Variable 'weight:0' shape=(1,) dtype=float32_ref> <tf.Variable 'weight_1:0' shape=(1,) dtype=float32_ref> <tf.Variable 'weight_2:0' shape=(1,) dtype=float32_ref>\n",
      "Tensor(\"y_pred:0\", dtype=float32)\n",
      "Tensor(\"sqr_errors:0\", dtype=float32)\n"
     ]
    }
   ],
   "source": [
    "model1 = netto_et_al(x_dim=X_train.shape[0], learning_rate=0.00001)"
   ]
  },
  {
   "cell_type": "code",
   "execution_count": 8,
   "metadata": {},
   "outputs": [],
   "source": [
    "def train_model1(sess, model, X_train, y_train, num_epochs=100):\n",
    "    ## initialiaze all variables: \n",
    "    sess.run(model.init_op)    \n",
    "    training_costs = [] \n",
    "    parameters = []\n",
    "    for i in range(num_epochs):\n",
    "        _, cost = sess.run([model.optimizer, model.mean_cost], feed_dict={model.X:X_train, model.y:y_train})\n",
    "        training_costs.append(cost)\n",
    "        k11,k22,k33 = sess.run([model.k1, model.k2,model.k3], feed_dict={model.X:X_train, model.y:y_train})\n",
    "        parameters.append([np.asscalar(k11),np.asscalar(k22),np.asscalar(k33)])       \n",
    "    return training_costs,parameters"
   ]
  },
  {
   "cell_type": "code",
   "execution_count": 9,
   "metadata": {},
   "outputs": [],
   "source": [
    "sess = tf.Session(graph=model1.g) \n",
    "training_costs,parameters = train_model1(sess, model1, X_train, y_train, num_epochs=10000)"
   ]
  },
  {
   "cell_type": "code",
   "execution_count": 10,
   "metadata": {},
   "outputs": [
    {
     "name": "stdout",
     "output_type": "stream",
     "text": [
      "Parameters [k1, k2, k3]:  [0.8776366710662842, 1.1740978956222534, 0.3116709291934967]\n",
      "Mean Square Error:  2.2965822\n"
     ]
    }
   ],
   "source": [
    "## Print all results\n",
    "# for i,j in zip(parameters,training_costs):\n",
    "#     print(i,j)\n",
    "\n",
    "## Print final results\n",
    "final_paramters=parameters[-1]\n",
    "final_cost=training_costs[-1]\n",
    "print('Parameters [k1, k2, k3]: ',final_paramters)\n",
    "print('Mean Square Error: ',final_cost)"
   ]
  },
  {
   "cell_type": "code",
   "execution_count": 11,
   "metadata": {},
   "outputs": [
    {
     "data": {
      "image/png": "[encoded data removed]",
      "text/plain": [
       "<Figure size 576x864 with 2 Axes>"
      ]
     },
     "metadata": {},
     "output_type": "display_data"
    }
   ],
   "source": [
    "# Visualising results\n",
    "fig, ax = plt.subplots(figsize=(8,12))\n",
    "plt.subplot(211)\n",
    "plt.plot(np.asarray(parameters)[:,0],label=\"k1\")\n",
    "plt.plot(np.asarray(parameters)[:,1],label=\"k2\")\n",
    "plt.plot(np.asarray(parameters)[:,2],label=\"k3\")\n",
    "plt.legend(loc='lower right',fontsize=12)\n",
    "plt.xlabel('epoch',fontsize=12)\n",
    "plt.ylabel('ki',fontsize=12)\n",
    "\n",
    "plt.subplot(212)\n",
    "plt.plot(training_costs)\n",
    "plt.xlabel('epoch',fontsize=12)\n",
    "plt.ylabel('Mean Square Error',fontsize=12)\n",
    "plt.show()"
   ]
  },
  {
   "cell_type": "code",
   "execution_count": 12,
   "metadata": {},
   "outputs": [],
   "source": [
    "def predict(X,k1,k2,k3):\n",
    "    return 2*X[:,1]*X[:,4]/X[:,0]*(1-k1*(X[:,2]/X[:,1])**k2*(X[:,3]/X[:,0])**k3)"
   ]
  },
  {
   "cell_type": "code",
   "execution_count": 13,
   "metadata": {},
   "outputs": [
    {
     "name": "stdout",
     "output_type": "stream",
     "text": [
      "Mean Squared Error (Test data):  3.4092006244813438\n",
      "R square (Test data):  0.9356286300437289\n"
     ]
    }
   ],
   "source": [
    "# Model evaluation\n",
    "y_test_pred=predict(X_test,final_paramters[0],final_paramters[1],final_paramters[2])\n",
    "y_train_pred=predict(X_train,final_paramters[0],final_paramters[1],final_paramters[2])\n",
    "from sklearn.metrics import mean_squared_error,r2_score\n",
    "\n",
    "MSE=mean_squared_error(y_test,y_test_pred)\n",
    "R2=r2_score(y_test,y_test_pred)\n",
    "print('Mean Squared Error (Test data): ',MSE)\n",
    "print('R square (Test data): ',R2)"
   ]
  },
  {
   "cell_type": "code",
   "execution_count": 14,
   "metadata": {},
   "outputs": [
    {
     "data": {
      "image/png": "[encoded data removed]",
      "text/plain": [
       "<Figure size 576x432 with 1 Axes>"
      ]
     },
     "metadata": {},
     "output_type": "display_data"
    }
   ],
   "source": [
    "fig, ax = plt.subplots(figsize=(8,6))\n",
    "plt.scatter(y_test,y_test_pred,color='r',label=\"Train data\")\n",
    "plt.scatter(y_train,y_train_pred,color='b',label=\"Test data\")\n",
    "\n",
    "xy_line = (0, round(max(y_test)+2))\n",
    "ax.plot(xy_line,xy_line,'k--', label='1:1 line')\n",
    "plt.xlabel('y',fontsize=12)\n",
    "plt.ylabel('y_pred',fontsize=12)\n",
    "plt.xlim( xy_line )\n",
    "plt.ylim( xy_line )\n",
    "plt.legend(loc='lower right',fontsize=12)\n",
    "plt.show()"
   ]
  }
 ],
 "metadata": {
  "kernelspec": {
   "display_name": "Python 3",
   "language": "python",
   "name": "python3"
  },
  "language_info": {
   "codemirror_mode": {
    "name": "ipython",
    "version": 3
   },
   "file_extension": ".py",
   "mimetype": "text/x-python",
   "name": "python",
   "nbconvert_exporter": "python",
   "pygments_lexer": "ipython3",
   "version": "3.6.5"
  }
 },
 "nbformat": 4,
 "nbformat_minor": 2
}
